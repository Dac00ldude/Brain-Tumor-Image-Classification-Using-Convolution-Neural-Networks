{
  "cells": [
    {
      "cell_type": "markdown",
      "source": [
        "#Importing Libraries"
      ],
      "metadata": {
        "id": "Tva3Ak-a1n29"
      }
    },
    {
      "cell_type": "code",
      "source": [
        "pip install visualkeras"
      ],
      "metadata": {
        "colab": {
          "base_uri": "https://localhost:8080/"
        },
        "id": "3BtMIfkh76ai",
        "outputId": "0d045416-6987-42da-e0a8-1a8c277d6d1a"
      },
      "execution_count": null,
      "outputs": [
        {
          "output_type": "stream",
          "name": "stdout",
          "text": [
            "Looking in indexes: https://pypi.org/simple, https://us-python.pkg.dev/colab-wheels/public/simple/\n",
            "Requirement already satisfied: visualkeras in /usr/local/lib/python3.9/dist-packages (0.0.2)\n",
            "Requirement already satisfied: numpy>=1.18.1 in /usr/local/lib/python3.9/dist-packages (from visualkeras) (1.24.2)\n",
            "Requirement already satisfied: pillow>=6.2.0 in /usr/local/lib/python3.9/dist-packages (from visualkeras) (8.4.0)\n",
            "Requirement already satisfied: aggdraw>=1.3.11 in /usr/local/lib/python3.9/dist-packages (from visualkeras) (1.3.16)\n"
          ]
        }
      ]
    },
    {
      "cell_type": "code",
      "source": [
        "from google.colab import drive\n",
        "import matplotlib.pyplot as plt\n",
        "import cv2\n",
        "import numpy as np\n",
        "import sys\n",
        "import keras  #keras creates new Blank ML model\n",
        "from keras.models import Sequential\n",
        "import visualkeras #visualizes Keras Model\n",
        "from tensorflow.keras.models import Sequential             \n",
        "from tensorflow.keras.layers import Dense, Conv2D, Flatten\n",
        "from keras.preprocessing.image import  ImageDataGenerator #feeds images into the Keras model\n",
        "from keras.layers import Conv2D   #makes layers for model to sort images\n",
        "from keras.layers import Flatten\n",
        "from keras.layers import Dense"
      ],
      "metadata": {
        "id": "PfXFugaWz5OE"
      },
      "execution_count": null,
      "outputs": []
    },
    {
      "cell_type": "markdown",
      "source": [
        "#Mounting the data"
      ],
      "metadata": {
        "id": "wn7FfaY_83Ii"
      }
    },
    {
      "cell_type": "code",
      "execution_count": null,
      "metadata": {
        "colab": {
          "base_uri": "https://localhost:8080/"
        },
        "id": "t83MZkbSNqtP",
        "outputId": "482d79d3-e933-4940-a1fb-843b7d76a3a5"
      },
      "outputs": [
        {
          "output_type": "stream",
          "name": "stdout",
          "text": [
            "Drive already mounted at /content/drive; to attempt to forcibly remount, call drive.mount(\"/content/drive\", force_remount=True).\n"
          ]
        }
      ],
      "source": [
        "drive.mount('/content/drive') #MyDrive is the mounting folder(server's folder that Linux is looking through)"
      ]
    },
    {
      "cell_type": "code",
      "execution_count": null,
      "metadata": {
        "colab": {
          "base_uri": "https://localhost:8080/"
        },
        "id": "gA8xTwdDOp1Q",
        "outputId": "74d7767b-ada0-4d94-8c88-bac7e5790347"
      },
      "outputs": [
        {
          "output_type": "stream",
          "name": "stdout",
          "text": [
            "/content/drive/MyDrive/BrainTumorData/Training/glioma_tumor\n"
          ]
        }
      ],
      "source": [
        "cd drive/MyDrive/BrainTumorData/Training/glioma_tumor"
      ]
    },
    {
      "cell_type": "markdown",
      "source": [
        "#Exploratory Data Analysis (EDA)"
      ],
      "metadata": {
        "id": "M0BaYe9lWTuv"
      }
    },
    {
      "cell_type": "code",
      "execution_count": null,
      "metadata": {
        "id": "rDwygqZkVhS5"
      },
      "outputs": [],
      "source": [
        "g=cv2.imread('a.jpg')"
      ]
    },
    {
      "cell_type": "code",
      "execution_count": null,
      "metadata": {
        "colab": {
          "base_uri": "https://localhost:8080/",
          "height": 35
        },
        "id": "FMgYrRcnZYo6",
        "outputId": "535c36da-eea4-43c6-dbd2-a390be2de54c"
      },
      "outputs": [
        {
          "output_type": "execute_result",
          "data": {
            "text/plain": [
              "'/content/drive/MyDrive/BrainTumorData/Training/glioma_tumor'"
            ],
            "application/vnd.google.colaboratory.intrinsic+json": {
              "type": "string"
            }
          },
          "metadata": {},
          "execution_count": 7
        }
      ],
      "source": [
        "pwd#linux commands don't have ()'s"
      ]
    },
    {
      "cell_type": "code",
      "execution_count": null,
      "metadata": {
        "colab": {
          "base_uri": "https://localhost:8080/"
        },
        "id": "yM9Chij4Vmxl",
        "outputId": "ce7febe4-0abb-458d-8ebc-1a338714af51"
      },
      "outputs": [
        {
          "output_type": "execute_result",
          "data": {
            "text/plain": [
              "(512, 512, 3)"
            ]
          },
          "metadata": {},
          "execution_count": 8
        }
      ],
      "source": [
        "g.shape"
      ]
    },
    {
      "cell_type": "code",
      "execution_count": null,
      "metadata": {
        "id": "YzrnJWc-VuN2",
        "colab": {
          "base_uri": "https://localhost:8080/"
        },
        "outputId": "9e32c8fe-c16e-4536-f8a0-ff31b97426bd"
      },
      "outputs": [
        {
          "output_type": "execute_result",
          "data": {
            "text/plain": [
              "array([[[0, 0, 0],\n",
              "        [0, 0, 0],\n",
              "        [0, 0, 0],\n",
              "        ...,\n",
              "        [0, 0, 0],\n",
              "        [0, 0, 0],\n",
              "        [0, 0, 0]],\n",
              "\n",
              "       [[0, 0, 0],\n",
              "        [0, 0, 0],\n",
              "        [0, 0, 0],\n",
              "        ...,\n",
              "        [0, 0, 0],\n",
              "        [0, 0, 0],\n",
              "        [0, 0, 0]],\n",
              "\n",
              "       [[0, 0, 0],\n",
              "        [0, 0, 0],\n",
              "        [0, 0, 0],\n",
              "        ...,\n",
              "        [0, 0, 0],\n",
              "        [0, 0, 0],\n",
              "        [0, 0, 0]],\n",
              "\n",
              "       ...,\n",
              "\n",
              "       [[0, 0, 0],\n",
              "        [0, 0, 0],\n",
              "        [0, 0, 0],\n",
              "        ...,\n",
              "        [0, 0, 0],\n",
              "        [0, 0, 0],\n",
              "        [0, 0, 0]],\n",
              "\n",
              "       [[0, 0, 0],\n",
              "        [0, 0, 0],\n",
              "        [0, 0, 0],\n",
              "        ...,\n",
              "        [0, 0, 0],\n",
              "        [0, 0, 0],\n",
              "        [0, 0, 0]],\n",
              "\n",
              "       [[0, 0, 0],\n",
              "        [0, 0, 0],\n",
              "        [0, 0, 0],\n",
              "        ...,\n",
              "        [0, 0, 0],\n",
              "        [0, 0, 0],\n",
              "        [0, 0, 0]]], dtype=uint8)"
            ]
          },
          "metadata": {},
          "execution_count": 9
        }
      ],
      "source": [
        "g"
      ]
    },
    {
      "cell_type": "code",
      "execution_count": null,
      "metadata": {
        "id": "f8EwLlhDWHK_",
        "colab": {
          "base_uri": "https://localhost:8080/",
          "height": 286
        },
        "outputId": "95be7bb3-577a-4fbf-c68d-58bfdf15f3ff"
      },
      "outputs": [
        {
          "output_type": "execute_result",
          "data": {
            "text/plain": [
              "<matplotlib.image.AxesImage at 0x7f4851ebc430>"
            ]
          },
          "metadata": {},
          "execution_count": 10
        },
        {
          "output_type": "display_data",
          "data": {
            "text/plain": [
              "<Figure size 432x288 with 1 Axes>"
            ],
            "image/png": "[encoded data removed]"
          },
          "metadata": {
            "needs_background": "light"
          }
        }
      ],
      "source": [
        "plt.imshow(g)#imshow takes numpy arr as input"
      ]
    },
    {
      "cell_type": "code",
      "execution_count": null,
      "metadata": {
        "id": "VByCf0gvWJp_"
      },
      "outputs": [],
      "source": [
        "np.set_printoptions(threshold=sys.maxsize)#prints full array"
      ]
    },
    {
      "cell_type": "markdown",
      "metadata": {
        "id": "ff7eS8GIregi"
      },
      "source": [
        "#Data preprocessing "
      ]
    },
    {
      "cell_type": "code",
      "execution_count": null,
      "metadata": {
        "id": "Ept_T4RurlAy"
      },
      "outputs": [],
      "source": [
        "gen=ImageDataGenerator(rescale=1//255)\n",
        "#imageDataGen generates every img in the folder at a time and takes input for rescale value\n",
        "#creates new scale for image colors to normalize data and make it all significant"
      ]
    },
    {
      "cell_type": "code",
      "execution_count": null,
      "metadata": {
        "id": "0fJ7sEBJthzr",
        "colab": {
          "base_uri": "https://localhost:8080/"
        },
        "outputId": "18fa97a8-43e8-442d-b6c7-691e977ee60a"
      },
      "outputs": [
        {
          "output_type": "execute_result",
          "data": {
            "text/plain": [
              "<keras.preprocessing.image.ImageDataGenerator at 0x7f48bf0b4e80>"
            ]
          },
          "metadata": {},
          "execution_count": 13
        }
      ],
      "source": [
        "gen"
      ]
    },
    {
      "cell_type": "code",
      "execution_count": null,
      "metadata": {
        "id": "snSr_rRMchK3",
        "colab": {
          "base_uri": "https://localhost:8080/"
        },
        "outputId": "3603ee40-807b-4974-ddfc-e678d453d48c"
      },
      "outputs": [
        {
          "output_type": "stream",
          "name": "stdout",
          "text": [
            "/content/drive/MyDrive/BrainTumorData/Training\n"
          ]
        }
      ],
      "source": [
        "cd .."
      ]
    },
    {
      "cell_type": "code",
      "execution_count": null,
      "metadata": {
        "id": "Tbi-7cL7t6wj",
        "colab": {
          "base_uri": "https://localhost:8080/"
        },
        "outputId": "fbc185b2-9f31-47c7-c740-38c977bd5d32"
      },
      "outputs": [
        {
          "output_type": "stream",
          "name": "stdout",
          "text": [
            "Found 2870 images belonging to 4 classes.\n"
          ]
        }
      ],
      "source": [
        "#flow_from_directory function- connects ImageDataGenerator with all the images in file\n",
        "trainingData=gen.flow_from_directory('/content/drive/MyDrive/BrainTumorData/Training',target_size=(128,128))"
      ]
    },
    {
      "cell_type": "code",
      "execution_count": null,
      "metadata": {
        "id": "ceOpd4EGuFzh",
        "colab": {
          "base_uri": "https://localhost:8080/"
        },
        "outputId": "3f3782e4-869e-4780-f46d-51e3f69b8913"
      },
      "outputs": [
        {
          "output_type": "stream",
          "name": "stdout",
          "text": [
            "Found 394 images belonging to 4 classes.\n"
          ]
        }
      ],
      "source": [
        "#connects ImageDataGenerator to testing using the same function\n",
        "testingData=gen.flow_from_directory('/content/drive/MyDrive/BrainTumorData/Testing',target_size=(128,128))"
      ]
    },
    {
      "cell_type": "code",
      "execution_count": null,
      "metadata": {
        "id": "ibrkbdw2eg7s"
      },
      "outputs": [],
      "source": [
        "#now we build the NN\n",
        "#step 1: define a model (empty model object from Sequential class) (below)\n",
        "#2: add layers by using .add()"
      ]
    },
    {
      "cell_type": "code",
      "execution_count": null,
      "metadata": {
        "id": "CMgfJXONQRNc"
      },
      "outputs": [],
      "source": []
    },
    {
      "cell_type": "markdown",
      "source": [
        "#Model Building and Intialization"
      ],
      "metadata": {
        "id": "qTqt7xzSW0-L"
      }
    },
    {
      "cell_type": "code",
      "execution_count": null,
      "metadata": {
        "id": "i7BAZRhWQoqC"
      },
      "outputs": [],
      "source": [
        "model = Sequential() #creates new sequential\n",
        "model.add(Conv2D(2,kernel_size=(3,3), activation='sigmoid', input_shape=(128,128,3))) #creates a new layer\n",
        "model.add(Conv2D(2,kernel_size=(3,3), activation='sigmoid')) #creates another layer, copies previous shappe by defualt\n",
        "model.add(Flatten())#creates new layer to flatten image and make numbers into a vector\n",
        "model.add(Dense(64,activation='sigmoid'))#adds dense layer(non-convolution)\n",
        "model.add(Dense(4,activation='softmax'))#adds output(final) layer with number of outputs(4)"
      ]
    },
    {
      "cell_type": "markdown",
      "source": [
        "#Summary of the Model"
      ],
      "metadata": {
        "id": "8BOhCZc7W-TS"
      }
    },
    {
      "cell_type": "code",
      "execution_count": null,
      "metadata": {
        "id": "0SKyUUmiXqE0",
        "colab": {
          "base_uri": "https://localhost:8080/"
        },
        "outputId": "608ad49b-84ab-45eb-f344-f606abd11faa"
      },
      "outputs": [
        {
          "output_type": "stream",
          "name": "stdout",
          "text": [
            "Model: \"sequential\"\n",
            "_________________________________________________________________\n",
            " Layer (type)                Output Shape              Param #   \n",
            "=================================================================\n",
            " conv2d (Conv2D)             (None, 126, 126, 2)       56        \n",
            "                                                                 \n",
            " conv2d_1 (Conv2D)           (None, 124, 124, 2)       38        \n",
            "                                                                 \n",
            " flatten (Flatten)           (None, 30752)             0         \n",
            "                                                                 \n",
            " dense (Dense)               (None, 64)                1968192   \n",
            "                                                                 \n",
            " dense_1 (Dense)             (None, 4)                 260       \n",
            "                                                                 \n",
            "=================================================================\n",
            "Total params: 1,968,546\n",
            "Trainable params: 1,968,546\n",
            "Non-trainable params: 0\n",
            "_________________________________________________________________\n"
          ]
        }
      ],
      "source": [
        "model.summary() #summarizes model and shows what it looks like"
      ]
    },
    {
      "cell_type": "markdown",
      "metadata": {
        "id": "ndCp9edoa4DW"
      },
      "source": [
        "#Training the Model"
      ]
    },
    {
      "cell_type": "code",
      "execution_count": null,
      "metadata": {
        "id": "Rbqbj74-O9HI"
      },
      "outputs": [],
      "source": [
        "model.compile(loss='binary_crossentropy',optimizer='adam', metrics=['accuracy'])     #defines err function and uses an optimizer called Adam"
      ]
    },
    {
      "cell_type": "code",
      "execution_count": null,
      "metadata": {
        "id": "511xsKpUbFO8",
        "colab": {
          "base_uri": "https://localhost:8080/"
        },
        "outputId": "55a745a8-6abd-4de4-9078-bfeba1cc51c2"
      },
      "outputs": [
        {
          "output_type": "stream",
          "name": "stdout",
          "text": [
            "Epoch 1/5\n",
            "90/90 [==============================] - 53s 586ms/step - loss: 0.5506 - accuracy: 0.2711 - val_loss: 0.5767 - val_accuracy: 0.2538\n",
            "Epoch 2/5\n",
            "90/90 [==============================] - 63s 699ms/step - loss: 0.5505 - accuracy: 0.2805 - val_loss: 0.5819 - val_accuracy: 0.1878\n",
            "Epoch 3/5\n",
            "90/90 [==============================] - 51s 565ms/step - loss: 0.5505 - accuracy: 0.2711 - val_loss: 0.5791 - val_accuracy: 0.1878\n",
            "Epoch 4/5\n",
            "90/90 [==============================] - 49s 545ms/step - loss: 0.5505 - accuracy: 0.2679 - val_loss: 0.5794 - val_accuracy: 0.1878\n",
            "Epoch 5/5\n",
            "90/90 [==============================] - 49s 538ms/step - loss: 0.5506 - accuracy: 0.2805 - val_loss: 0.5765 - val_accuracy: 0.2919\n"
          ]
        }
      ],
      "source": [
        "history=model.fit(trainingData,validation_data=testingData,epochs=10) #trains ML model 2 times, adjust epochs and other stuff here"
      ]
    },
    {
      "cell_type": "markdown",
      "source": [
        "#Visual Representation of the Model "
      ],
      "metadata": {
        "id": "ytlG8xaSYFbo"
      }
    },
    {
      "cell_type": "code",
      "source": [
        "history.history['val_accuracy']"
      ],
      "metadata": {
        "colab": {
          "base_uri": "https://localhost:8080/"
        },
        "id": "nPDMisVnbt0j",
        "outputId": "e843fe1a-92f7-43d9-8ae6-e6b64fa8a8dc"
      },
      "execution_count": null,
      "outputs": [
        {
          "output_type": "execute_result",
          "data": {
            "text/plain": [
              "[0.25380709767341614,\n",
              " 0.1878172606229782,\n",
              " 0.1878172606229782,\n",
              " 0.1878172606229782,\n",
              " 0.2918781638145447]"
            ]
          },
          "metadata": {},
          "execution_count": 31
        }
      ]
    },
    {
      "cell_type": "code",
      "source": [
        "visualkeras.layered_view(model, legend = True) #visualizes model"
      ],
      "metadata": {
        "id": "aL2WOBl3yxlP",
        "colab": {
          "base_uri": "https://localhost:8080/",
          "height": 725
        },
        "outputId": "7bf44eba-742e-464d-b113-786342377194"
      },
      "execution_count": null,
      "outputs": [
        {
          "output_type": "execute_result",
          "data": {
            "text/plain": [
              "<PIL.Image.Image image mode=RGBA size=628x708 at 0x7F48358B8100>"
            ],
            "image/png": "[encoded data removed]"
          },
          "metadata": {},
          "execution_count": 29
        }
      ]
    },
    {
      "cell_type": "markdown",
      "source": [
        "#Results"
      ],
      "metadata": {
        "id": "Bmp2-RdzZOOl"
      }
    },
    {
      "cell_type": "code",
      "source": [
        "#matplotlib is used to plot things in python\n",
        "plt.plot(history.history['val_accuracy']) #this will return a plot of the accuracy as we run the model more and more times"
      ],
      "metadata": {
        "colab": {
          "base_uri": "https://localhost:8080/",
          "height": 282
        },
        "id": "RYzWb8fCZN5i",
        "outputId": "fcaf9fed-b28b-4c8d-9050-d207e44823e3"
      },
      "execution_count": null,
      "outputs": [
        {
          "output_type": "execute_result",
          "data": {
            "text/plain": [
              "[<matplotlib.lines.Line2D at 0x7f483568df40>]"
            ]
          },
          "metadata": {},
          "execution_count": 37
        },
        {
          "output_type": "display_data",
          "data": {
            "text/plain": [
              "<Figure size 432x288 with 1 Axes>"
            ],
            "image/png": "[encoded data removed]"
          },
          "metadata": {
            "needs_background": "light"
          }
        }
      ]
    },
    {
      "cell_type": "code",
      "source": [
        "#matplotlib is used to plot things in python\n",
        "plt.plot(history.history['val_loss']) #this will return a plot of the loss as we run the model more and more times"
      ],
      "metadata": {
        "colab": {
          "base_uri": "https://localhost:8080/",
          "height": 282
        },
        "id": "qcUWPvp0chx0",
        "outputId": "8e164ee7-ce28-4cdd-cb81-2d5a1fd220da"
      },
      "execution_count": null,
      "outputs": [
        {
          "output_type": "execute_result",
          "data": {
            "text/plain": [
              "[<matplotlib.lines.Line2D at 0x7f48357c3b80>]"
            ]
          },
          "metadata": {},
          "execution_count": 38
        },
        {
          "output_type": "display_data",
          "data": {
            "text/plain": [
              "<Figure size 432x288 with 1 Axes>"
            ],
            "image/png": "[encoded data removed]"
          },
          "metadata": {
            "needs_background": "light"
          }
        }
      ]
    }
  ],
  "metadata": {
    "accelerator": "TPU",
    "colab": {
      "provenance": []
    },
    "gpuClass": "standard",
    "kernelspec": {
      "display_name": "Python 3",
      "name": "python3"
    },
    "language_info": {
      "name": "python"
    }
  },
  "nbformat": 4,
  "nbformat_minor": 0
}